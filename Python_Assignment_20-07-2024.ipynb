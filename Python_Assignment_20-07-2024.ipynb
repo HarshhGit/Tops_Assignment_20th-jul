{
 "cells": [
  {
   "cell_type": "code",
   "execution_count": 5,
   "id": "4b4dcdef-8409-4b5a-99ce-256a2c16acfa",
   "metadata": {},
   "outputs": [
    {
     "name": "stdin",
     "output_type": "stream",
     "text": [
      "Provide Your Number:  -2.5\n"
     ]
    },
    {
     "name": "stdout",
     "output_type": "stream",
     "text": [
      "Given Number -2.5 is Negative\n"
     ]
    }
   ],
   "source": [
    "# Q.1]. Write a Python program to check if a number is positive, negative or zero.\n",
    "\n",
    "num = float(input(\"Provide Your Number: \"))\n",
    "if num > 0:\n",
    "    print(f\"Given Number {num} is Positive\")\n",
    "elif num < 0:\n",
    "    print(f\"Given Number {num} is Negative\")\n",
    "else:\n",
    "    print(f\"Given Number {num} is Zero\")"
   ]
  },
  {
   "cell_type": "code",
   "execution_count": 10,
   "id": "32537712-5566-4e4c-ac37-b247d868122b",
   "metadata": {},
   "outputs": [
    {
     "name": "stdin",
     "output_type": "stream",
     "text": [
      "Enter number to find factorial:  5\n"
     ]
    },
    {
     "name": "stdout",
     "output_type": "stream",
     "text": [
      "Factorial of given number is:  120\n"
     ]
    }
   ],
   "source": [
    "#Q.2]. Write a Python program to get the Factorial number of given number.\n",
    "\n",
    "num1 = int(input(\"Enter number to find factorial: \"))\n",
    "\n",
    "fact = 1\n",
    "\n",
    "for i in range (1,num1+1):\n",
    "    fact = fact*i\n",
    "print(\"Factorial of given number is: \",fact)\n"
   ]
  },
  {
   "cell_type": "code",
   "execution_count": 29,
   "id": "86179272-b995-4f4b-899a-1b3178d16ad6",
   "metadata": {},
   "outputs": [
    {
     "name": "stdin",
     "output_type": "stream",
     "text": [
      "Provide number to create Fibonacci series:  5\n"
     ]
    },
    {
     "name": "stdout",
     "output_type": "stream",
     "text": [
      "Fibonacci series up to 5 :\n",
      "0\n",
      "1\n",
      "\n"
     ]
    }
   ],
   "source": [
    "# Q.3]. Write a Python program to get the Fibonacci series of given range.\n",
    "\n",
    "a,b=0,1\n",
    "num = int(input(\"Provide number to create Fibonacci series: \"))\n",
    "\n",
    "if num <= 0:\n",
    "    print(\"Provide positive number!!! \")\n",
    "elif num == 1:\n",
    "    print(f\"Fibonacci series up to {num} :\")\n",
    "    print(a)\n",
    "else:\n",
    "    print(f\"Fibonacci series up to {num} :\")\n",
    "    print(a)\n",
    "    print(b)\n",
    "    for i in range(2, num):\n",
    "        c = a + b\n",
    "        a = b\n",
    "        b = c\n",
    "        print(c)"
   ]
  },
  {
   "cell_type": "code",
   "execution_count": 40,
   "id": "657af11b-c909-49dc-8297-dfd6d28e084d",
   "metadata": {},
   "outputs": [
    {
     "name": "stdin",
     "output_type": "stream",
     "text": [
      "Enter First number:  5\n",
      "Enter Second number:  2\n"
     ]
    },
    {
     "name": "stdout",
     "output_type": "stream",
     "text": [
      "Before swapping: 5 2\n",
      "after swapping:  2 5\n"
     ]
    }
   ],
   "source": [
    "# Q.4]. Write python program that swap two number with temp variable and without temp variable.\n",
    "# i]. Using temp variable:-\n",
    "\n",
    "n1 = int(input(\"Enter First number: \"))\n",
    "n2 = int(input(\"Enter Second number: \"))\n",
    "temp = n1\n",
    "print(\"Before swapping:\",n1,n2)\n",
    "n1=n2\n",
    "n2=temp\n",
    "print(\"after swapping: \", n1, n2)"
   ]
  },
  {
   "cell_type": "code",
   "execution_count": 37,
   "id": "5eaeb2cb-e40e-476b-af2e-cf7db3e5f4b9",
   "metadata": {},
   "outputs": [
    {
     "name": "stdin",
     "output_type": "stream",
     "text": [
      "Enter first number:  5\n",
      "Enter second number:  2\n"
     ]
    },
    {
     "name": "stdout",
     "output_type": "stream",
     "text": [
      "before swap:  5 2\n",
      "after swap:  2 5\n"
     ]
    }
   ],
   "source": [
    "# ii]. without temp variable:-\n",
    "x =int(input(\"Enter first number: \"))\n",
    "y = int(input(\"Enter second number: \"))\n",
    "print(\"before swap: \", x, y)\n",
    "x,y=y,x\n",
    "print(\"after swap: \", x,y)"
   ]
  },
  {
   "cell_type": "code",
   "execution_count": 50,
   "id": "8ffc1218-f115-40f3-adc5-a5139863934b",
   "metadata": {},
   "outputs": [
    {
     "name": "stdin",
     "output_type": "stream",
     "text": [
      "Provide number to check odd or even:  5\n"
     ]
    },
    {
     "name": "stdout",
     "output_type": "stream",
     "text": [
      "given number 5 is odd\n"
     ]
    }
   ],
   "source": [
    "#Q.5]. write a Python program to find whether a given number is even or odd, print out an appropriate message to the user..\n",
    "num = int(input(\"Provide number to check odd or even: \"))\n",
    "if num%2 == 0:\n",
    "    print(\"given Number is Even: \",num)\n",
    "else:\n",
    "    print(f\"given number {num} is odd\")"
   ]
  },
  {
   "cell_type": "code",
   "execution_count": 2,
   "id": "b38ec3cb-3a2d-4651-9201-af503c695708",
   "metadata": {},
   "outputs": [
    {
     "name": "stdin",
     "output_type": "stream",
     "text": [
      "Enter Alphabet to check vowel or not:  b\n"
     ]
    },
    {
     "name": "stdout",
     "output_type": "stream",
     "text": [
      "b  is not a vowel\n"
     ]
    }
   ],
   "source": [
    "# Q.6]. Write a Python program to test whether a passed letter is a vowel or not.\n",
    "\n",
    "vowel = input(\"Enter Alphabet to check vowel or not: \")\n",
    "if vowel in \"aeiouAEIOU\":\n",
    "    print(vowel,\" is a vowel\")\n",
    "else:\n",
    "    print(vowel,\" is not a vowel\")"
   ]
  },
  {
   "cell_type": "code",
   "execution_count": 6,
   "id": "86e2f647-ba91-4de0-9800-3f3d154e7617",
   "metadata": {},
   "outputs": [
    {
     "name": "stdin",
     "output_type": "stream",
     "text": [
      "Enter 1st number :  2\n",
      "Enter 2nd number :  5\n",
      "Enter 3rd number :  5\n"
     ]
    },
    {
     "name": "stdout",
     "output_type": "stream",
     "text": [
      "You have Enterd Two similar values : 0 \n"
     ]
    }
   ],
   "source": [
    "#Q.7]. Write a python program to sum of three given integers. however, if two values are equal sum will be zero.\n",
    "\n",
    "num1 = int(input(\"Enter 1st number : \"))\n",
    "num2 = int(input(\"Enter 2nd number : \"))\n",
    "num3 = int(input(\"Enter 3rd number : \"))\n",
    "\n",
    "if num1 == num2 or num2 == num3 or num3 == num1 :\n",
    "    print(\"You have Enterd Two similar values : 0 \")\n",
    "else :\n",
    "    print(\"Answer of 3 value is : \",num1+num2+num3)"
   ]
  },
  {
   "cell_type": "code",
   "execution_count": 9,
   "id": "5b16be02-cf49-4273-a8b4-78b50d634dc4",
   "metadata": {},
   "outputs": [
    {
     "name": "stdin",
     "output_type": "stream",
     "text": [
      "Enter 1st value :  7\n",
      "Enter 2nd value :  2\n"
     ]
    },
    {
     "name": "stdout",
     "output_type": "stream",
     "text": [
      "True\n"
     ]
    }
   ],
   "source": [
    "#Q.8]. Write a Python program that will return true if the two given integer values are equal or their sum or difference is 5.\n",
    "\n",
    "num1 = int(input(\"Enter 1st value : \"))\n",
    "num2 = int(input(\"Enter 2nd value : \"))\n",
    "\n",
    "if num1==num2 or ((num1-num2==5) or (num2-num1==5) or (num1+num2==5)):\n",
    "    print(\"True\")\n",
    "else:\n",
    "    print(\"False\")"
   ]
  },
  {
   "cell_type": "code",
   "execution_count": 2,
   "id": "e79c9625-a3ae-4bbb-b524-0d3d639576a3",
   "metadata": {},
   "outputs": [
    {
     "name": "stdin",
     "output_type": "stream",
     "text": [
      "Enter a number : 5\n"
     ]
    },
    {
     "name": "stdout",
     "output_type": "stream",
     "text": [
      "The sum of the first 5 positive integers is: 15\n"
     ]
    }
   ],
   "source": [
    "#Q.9].Write a python program to sum of the first n positive integers.\n",
    "\n",
    "n = int(input(\"Enter a number :\"))\n",
    "sum = 0\n",
    "for i in range(1,n + 1):\n",
    "    sum +=i\n",
    "    \n",
    "print(f\"The sum of the first {n} positive integers is: {sum}\")"
   ]
  },
  {
   "cell_type": "code",
   "execution_count": 11,
   "id": "b85f4d5b-822f-4b08-b4b7-dda1a07ea23c",
   "metadata": {},
   "outputs": [
    {
     "name": "stdin",
     "output_type": "stream",
     "text": [
      "Enter a string value to calculate hello\n"
     ]
    },
    {
     "name": "stdout",
     "output_type": "stream",
     "text": [
      "Given string length is :  5\n"
     ]
    }
   ],
   "source": [
    "#.Q.10].Write a python program to calculate the length of a string\n",
    "\n",
    "str = input(\"Enter a string value to calculate: \")\n",
    "print(\"Given string length is : \",len(str))\n"
   ]
  },
  {
   "cell_type": "code",
   "execution_count": 1,
   "id": "fcee977b-b67a-46d7-82aa-5d4e6f091542",
   "metadata": {},
   "outputs": [
    {
     "name": "stdin",
     "output_type": "stream",
     "text": [
      "enter string:  hello\n"
     ]
    },
    {
     "name": "stdout",
     "output_type": "stream",
     "text": [
      "The give string freq is :  {'h': 1, 'e': 1, 'l': 2, 'o': 1}\n"
     ]
    }
   ],
   "source": [
    "#Q.11].Write a Python program to count the number of characters (character frequency) in a string\n",
    "\n",
    "char = input(\"enter string: \")\n",
    "m = {} \n",
    "for i in char:\n",
    "    if i in m:\n",
    "        m[i]+=1\n",
    "    else:\n",
    "        m[i]=1\n",
    "print(\"The give string freq is : \", m)"
   ]
  },
  {
   "cell_type": "code",
   "execution_count": 4,
   "id": "fcea8f24-42e5-4c40-b482-7ca2b29e52ee",
   "metadata": {},
   "outputs": [
    {
     "name": "stdin",
     "output_type": "stream",
     "text": [
      "Enter a string:  python is python\n",
      "Enter a sub-string to count in str:  python\n"
     ]
    },
    {
     "name": "stdout",
     "output_type": "stream",
     "text": [
      "Number of occurrences of 'python' in 'python is python': 2\n"
     ]
    }
   ],
   "source": [
    "#Q.12].Write a Python program to count occurrences of a substring in a string.\n",
    "\n",
    "str = input(\"Enter a string: \")\n",
    "sub_str = input(\"Enter a sub-string to count in str: \")\n",
    "\n",
    "count = 0\n",
    "len_sub = len(sub_str)\n",
    "len_str = len(str)\n",
    "\n",
    "for i in range(len_str - len_sub + 1):\n",
    "    if str[i:i + len_sub] == sub_str:\n",
    "        count += 1\n",
    "\n",
    "print(f\"Number of occurrences of '{sub_str}' in '{str}': {count}\")\n",
    "\n"
   ]
  },
  {
   "cell_type": "code",
   "execution_count": 7,
   "id": "19bc561c-741b-40d4-9296-928d19e15100",
   "metadata": {},
   "outputs": [
    {
     "name": "stdin",
     "output_type": "stream",
     "text": [
      "Enter a sentence:  today is good day good day means friday\n"
     ]
    },
    {
     "name": "stdout",
     "output_type": "stream",
     "text": [
      "'today' occurs 1 time(s)\n",
      "'is' occurs 1 time(s)\n",
      "'good' occurs 2 time(s)\n",
      "'day' occurs 2 time(s)\n",
      "'means' occurs 1 time(s)\n",
      "'friday' occurs 1 time(s)\n"
     ]
    }
   ],
   "source": [
    "#Q.13].Write a Python program to count the occurrences of each word in a given sentence\n",
    "\n",
    "sentence = input(\"Enter a sentence: \")\n",
    "words = sentence.split()\n",
    "word_counts = {}\n",
    "\n",
    "for word in words:\n",
    "    if word in word_counts:\n",
    "        word_counts[word] += 1\n",
    "    else:\n",
    "        word_counts[word] = 1\n",
    "\n",
    "for word, count in word_counts.items():\n",
    "    print(f\"'{word}' occurs {count} time(s)\")\n"
   ]
  },
  {
   "cell_type": "code",
   "execution_count": 34,
   "id": "b3a3983f-379f-4412-83b3-eb9da4bdc798",
   "metadata": {},
   "outputs": [
    {
     "name": "stdin",
     "output_type": "stream",
     "text": [
      "Enter String1 : hello\n",
      "Enter String2 : how are you\n"
     ]
    },
    {
     "name": "stdout",
     "output_type": "stream",
     "text": [
      "hello how are you\n",
      "hollo\n",
      "hew are you\n"
     ]
    }
   ],
   "source": [
    "\"\"\"Q.14].Write a Python program to get a single string from two given strings,\n",
    "separated by a space and swap the first two characters of each string.\"\"\"\n",
    "\n",
    "str1 = input(\"Enter String1 :\")\n",
    "str2 = input(\"Enter String2 :\")\n",
    "sin = print(str1 + \" \"+str2)\n",
    "\n",
    "swap1= str2[:2]+str1[2:]\n",
    "swap2 = str1[:2]+str2[2:]\n",
    "print(swap1)\n",
    "print(swap2)"
   ]
  },
  {
   "cell_type": "code",
   "execution_count": 11,
   "id": "fdbb7fea-2e87-45ba-88cb-e676333fa602",
   "metadata": {},
   "outputs": [
    {
     "name": "stdin",
     "output_type": "stream",
     "text": [
      "Enter string atleast more than 3 words:  darjeling\n"
     ]
    },
    {
     "name": "stdout",
     "output_type": "stream",
     "text": [
      "Ly insted of ing:  darjelly\n"
     ]
    }
   ],
   "source": [
    "\"\"\"Q.15].Write a Python program to add 'ing' at the end of a given string (length should be at least 3). \n",
    "If the given string already ends with 'ing' then add ly' instead if the string length of the given \n",
    "string is less than 3, leave it unchanged.\"\"\"\n",
    "\n",
    "\n",
    "str = input(\"Enter string atleast more than 3 words: \")\n",
    "#temp = \"ing\"\n",
    "if len(str)>=3 and str[-1]!=\"g\":\n",
    "    print(\"changed value using 'ing' is :\",str+\"ing\")\n",
    "elif str.endswith(\"ing\")==True:\n",
    "    print(\"Ly insted of ing: \",str.replace(\"ing\",\"ly\"))\n",
    "else:\n",
    "    print(str)"
   ]
  },
  {
   "cell_type": "code",
   "execution_count": 12,
   "id": "eea5f936-57a8-47dd-b56b-0f5d564c6698",
   "metadata": {},
   "outputs": [
    {
     "name": "stdin",
     "output_type": "stream",
     "text": [
      "Enter a string:  c is not that much poor language\n"
     ]
    },
    {
     "name": "stdout",
     "output_type": "stream",
     "text": [
      "c is good language\n"
     ]
    }
   ],
   "source": [
    "\"\"\"Q.16]. Write a Python program to find the first appearance of the substring\n",
    "'not' and 'poor' from a given string, if 'not' follows the 'poor', replace the\n",
    "whole 'not'...'poor' substring with 'good'. Return the resulting string.\"\"\"\n",
    "\n",
    "str = input(\"Enter a string: \")\n",
    "\n",
    "# Finding the index of 'not' and 'poor'\n",
    "not1 = str.find('not')\n",
    "poor = str.find('poor')\n",
    "\n",
    "# Checking conditions and replacing if necessary\n",
    "if not1 != -1 and poor != -1 and not1 < poor:\n",
    "    str = str[:not1] + 'good' + str[poor + 4:]\n",
    "\n",
    "# Displaying the resulting string\n",
    "print(str)\n",
    "\n"
   ]
  },
  {
   "cell_type": "code",
   "execution_count": 30,
   "id": "2a7baa6a-2e9a-4499-b5a5-4d09fab04605",
   "metadata": {},
   "outputs": [
    {
     "name": "stdout",
     "output_type": "stream",
     "text": [
      "The longest word in the list is 'banana' with a length of 6\n"
     ]
    }
   ],
   "source": [
    "\"\"\"Q.17]. Write a Python function that takes a list of words and returns the length\n",
    "of the longest one.\"\"\"\n",
    "\n",
    "def max_word(word_list):\n",
    "    longest_word = \"\"\n",
    "    count = 0\n",
    "    for word in word_list:\n",
    "        if len(word) > count:\n",
    "            count = len(word)\n",
    "            longest_word = word\n",
    "    return longest_word,count\n",
    "\n",
    "list1 = [\"apple\", \"banana\", \"orange\", \"lemon\", \"cherry\"]\n",
    "longest_word,longest_length = max_word(list1)\n",
    "print(f\"The longest word in the list is '{longest_word}' with a length of {longest_length}\")\n"
   ]
  },
  {
   "cell_type": "code",
   "execution_count": 28,
   "id": "94234074-e092-4c2d-9421-3399b69f62c3",
   "metadata": {},
   "outputs": [
    {
     "name": "stdin",
     "output_type": "stream",
     "text": [
      "Enter a str hell\n"
     ]
    },
    {
     "name": "stdout",
     "output_type": "stream",
     "text": [
      "lleh\n"
     ]
    }
   ],
   "source": [
    "#.18].Write a Python function to reverses a string if its length is a multiple of 4.\n",
    "\n",
    "def rev(str1):\n",
    "    if len(str) % 4 == 0:\n",
    "        return str1[::-1]\n",
    "    else:\n",
    "        return str1\n",
    "str1=input(\"Enter a str\")\n",
    "print(rev(str1))"
   ]
  },
  {
   "cell_type": "code",
   "execution_count": 19,
   "id": "9623ce1e-59bd-450d-91e3-f8a6679a3922",
   "metadata": {},
   "outputs": [
    {
     "name": "stdin",
     "output_type": "stream",
     "text": [
      "Enter a string:  python\n"
     ]
    },
    {
     "name": "stdout",
     "output_type": "stream",
     "text": [
      "The resulting string is: pyon\n"
     ]
    }
   ],
   "source": [
    "\"\"\"Q.19]. Write a Python program to get a string made of the first 2 and the last\n",
    "2 chars from a given a string. If the string length is less than 2, return\n",
    "instead of the empty string.\"\"\"\n",
    "\n",
    "\n",
    "str = input(\"Enter a string: \")\n",
    "\n",
    "if len(str) < 2:\n",
    "    result_str = \"\"\n",
    "else:\n",
    "    result_str = str[:2] + str[-2:]\n",
    "print(f\"The resulting string is: {result_str}\")\n"
   ]
  },
  {
   "cell_type": "code",
   "execution_count": 28,
   "id": "c9c1af48-8ca4-4bfa-ab68-6c3d3e4173e1",
   "metadata": {},
   "outputs": [
    {
     "name": "stdout",
     "output_type": "stream",
     "text": [
      "Hello good morning, how are u doing\n"
     ]
    },
    {
     "name": "stdin",
     "output_type": "stream",
     "text": [
      "Enter string to insert:  harsh\n"
     ]
    },
    {
     "name": "stdout",
     "output_type": "stream",
     "text": [
      "Hello good morning harsh, How are u doing?\n"
     ]
    }
   ],
   "source": [
    "\"\"\"Q.20].Write a Python function to insert a string in the middle of a string.\"\"\"\n",
    "\n",
    "def str(user):\n",
    "    print(f\"Hello good morning {user}, How are u doing?\")\n",
    "    \n",
    "ex = \"Hello good morning, how are u doing\"\n",
    "print(ex)\n",
    "main = input(\"Enter string to insert: \")\n",
    "str(main)"
   ]
  }
 ],
 "metadata": {
  "kernelspec": {
   "display_name": "Python 3 (ipykernel)",
   "language": "python",
   "name": "python3"
  },
  "language_info": {
   "codemirror_mode": {
    "name": "ipython",
    "version": 3
   },
   "file_extension": ".py",
   "mimetype": "text/x-python",
   "name": "python",
   "nbconvert_exporter": "python",
   "pygments_lexer": "ipython3",
   "version": "3.11.7"
  }
 },
 "nbformat": 4,
 "nbformat_minor": 5
}
